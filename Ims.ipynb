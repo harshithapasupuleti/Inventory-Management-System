{
 "cells": [
  {
   "cell_type": "code",
   "execution_count": 63,
   "id": "e5b47a40",
   "metadata": {},
   "outputs": [],
   "source": [
    "import json\n",
    "f=open('Products.json','r')\n",
    "t=f.read()\n",
    "f.close()"
   ]
  },
  {
   "cell_type": "code",
   "execution_count": 64,
   "id": "6975810f",
   "metadata": {},
   "outputs": [
    {
     "data": {
      "text/plain": [
       "'{\"1000620\": {\"Name\": \"kitkat\", \"Category\": \"choclate\", \"price\": 5, \"mfg_date\": \"5/21\", \"exp_date\": \"8/22\", \"Stock\": 99}, \"1000621\": {\"Name\": \"kitkat\", \"Category\": \"choclate\", \"price\": 10, \"mfg_date\": \"6/21\", \"exp_date\": \"4/22\", \"Stock\": 60}, \"1000622\": {\"Name\": \"5Star\", \"Category\": \"choclate\", \"price\": 5, \"mfg_date\": \"12/20\", \"exp_date\": \"10/21\", \"Stock\": 10}, \"1000623\": {\"Name\": \"5Star\", \"Category\": \"choclate\", \"price\": 10, \"mfg_date\": \"6/21\", \"exp_date\": \"1/23\", \"Stock\": 146}, \"1000624\": {\"Name\": \"bar-one\", \"Category\": \"choclate\", \"price\": 20, \"mfg_date\": \"4/21\", \"exp_date\": \"3/22\", \"Stock\": 50}, \"1000625\": {\"Name\": \"coke\", \"Category\": \"drink\", \"price\": 50, \"mfg_date\": \"11/20\", \"exp_date\": \"1/22\", \"Stock\": 20}, \"1000626\": {\"Name\": \"coke\", \"Category\": \"drink\", \"price\": 50, \"mfg_date\": \"5/20\", \"exp_date\": \"8/21\", \"Stock\": 5}, \"1000627\": {\"Name\": \"Fruti\", \"Category\": \"drink\", \"price\": 15, \"mfg_date\": \"8/21\", \"exp_date\": \"12/22\", \"Stock\": 146}, \"1000628\": {\"Name\": \"Sprit\", \"Category\": \"drink\", \"price\": 99, \"mfg_date\": \"6/21\", \"exp_date\": \"10/22\", \"Stock\": 90}, \"1000629\": {\"Name\": \"Dairymilk\", \"Category\": \"choclate\", \"price\": 60, \"mfg_date\": \"2/21\", \"exp_date\": \"6/22\", \"Stock\": 70}, \"1000630\": {\"Name\": \"Milkybar\", \"Category\": \"choclate\", \"price\": 20, \"mfg_date\": \"11/20\", \"exp_date\": \"12/22\", \"Stock\": 110}, \"1000631\": {\"Name\": \"Santoor\", \"Category\": \"soap\", \"price\": 25, \"mfg_date\": \"1/21\", \"exp_date\": \"7/22\", \"Stock\": 164}, \"1000632\": {\"Name\": \"Lux\", \"Category\": \"soap\", \"price\": 30, \"mfg_date\": \"3/21\", \"exp_date\": \"10/22\", \"Stock\": 120}, \"1000633\": {\"Name\": \"Dettol\", \"Category\": \"soap\", \"price\": 20, \"mfg_date\": \"7/21\", \"exp_date\": \"11/22\", \"Stock\": 80}, \"1000634\": {\"Name\": \"Medimix\", \"Category\": \"soap\", \"price\": 40, \"mfg_date\": \"3/21\", \"exp_date\": \"2/22\", \"Stock\": 65}, \"1000635\": {\"Name\": \"Cinthol\", \"Category\": \"soap\", \"price\": 45, \"mfg_date\": \"12/20\", \"exp_date\": \"5/22\", \"Stock\": 103}, \"1000636\": {\"Name\": \"Himalaya\", \"Category\": \"facewash\", \"price\": 90, \"mfg_date\": \"5/21\", \"exp_date\": \"12/22\", \"Stock\": 40}, \"1000637\": {\"Name\": \"Clean&clear\", \"Category\": \"facewash\", \"price\": 75, \"mfg_date\": \"2/21\", \"exp_date\": \"8/22\", \"Stock\": 58}, \"1000638\": {\"Name\": \"Lakme\", \"Category\": \"facewash\", \"price\": 144, \"mfg_date\": \"4/21\", \"exp_date\": \"6/22\", \"Stock\": 44}, \"1000639\": {\"Name\": \"Garniermen\", \"Category\": \"facewash\", \"price\": 120, \"mfg_date\": \"12/20\", \"exp_date\": \"2/22\", \"Stock\": 23}, \"1000640\": {\"Name\": \"Colgate\", \"Category\": \"toothpaste\", \"price\": 60, \"mfg_date\": \"2/21\", \"exp_date\": \"10/22\", \"Stock\": 130}, \"1000641\": {\"Name\": \"Daburred\", \"Category\": \"toothpaste\", \"price\": 100, \"mfg_date\": \"4/21\", \"exp_date\": \"4/22\", \"Stock\": 55}, \"1000642\": {\"Name\": \"Sensodyne\", \"Category\": \"toothpaste\", \"price\": 60, \"mfg_date\": \"10/20\", \"exp_date\": \"12/21\", \"Stock\": 5}, \"1000643\": {\"Name\": \"Sensodyne\", \"Category\": \"toothpaste\", \"price\": 140, \"mfg_date\": \"5/21\", \"exp_date\": \"3/23\", \"Stock\": 126}, \"1000644\": {\"Name\": \"Close-up\", \"Category\": \"toothpaste\", \"price\": 55, \"mfg_date\": \"2/21\", \"exp_date\": \"5/22\", \"Stock\": 68}, \"1000645\": {\"Name\": \"Meswak\", \"Category\": \"toothpaste\", \"price\": 72, \"mfg_date\": \"12/20\", \"exp_date\": \"4/22\", \"Stock\": 95}, \"1000646\": {\"Name\": \"Himalaya\", \"Category\": \"toothpaste\", \"price\": 95, \"mfg_date\": \"1/21\", \"exp_date\": \"11/22\", \"Stock\": 82}, \"1000647\": {\"Name\": \"Fair&lovely\", \"Category\": \"face cream\", \"price\": 105, \"mfg_date\": \"4/21\", \"exp_date\": \"1/23\", \"Stock\": 112}, \"1000648\": {\"Name\": \"Fair&handsome\", \"Category\": \"face cream\", \"price\": 110, \"mfg_date\": \"5/21\", \"exp_date\": \"9/22\", \"Stock\": 82}, \"1000649\": {\"Name\": \"Ponds\", \"Category\": \"face cream\", \"price\": 60, \"mfg_date\": \"4/21\", \"exp_date\": \"11/22\", \"Stock\": 94}, \"1000650\": {\"Name\": \"Olay\", \"Category\": \"face cream\", \"price\": 80, \"mfg_date\": \"12/20\", \"exp_date\": \"11/22\", \"Stock\": 60}, \"1000651\": {\"Name\": \"Lotus\", \"Category\": \"face cream\", \"price\": 92, \"mfg_date\": \"7/21\", \"exp_date\": \"12/22\", \"Stock\": 99}, \"1000652\": {\"Name\": \"Lorial paris\", \"Category\": \"face cream\", \"price\": 105, \"mfg_date\": \"6/21\", \"exp_date\": \"1/23\", \"Stock\": 90}, \"1000653\": {\"Name\": \"Santoor\", \"Category\": \"face powder\", \"price\": 60, \"mfg_date\": \"1/21\", \"exp_date\": \"11/23\", \"Stock\": 149}, \"1000654\": {\"Name\": \"Ponds\", \"Category\": \"face powder\", \"price\": 140, \"mfg_date\": \"4/21\", \"exp_date\": \"2/23\", \"Stock\": 135}, \"1000655\": {\"Name\": \"Whitetone\", \"Category\": \"face powder\", \"price\": 195, \"mfg_date\": \"8/20\", \"exp_date\": \"12/22\", \"Stock\": 13}, \"1000656\": {\"Name\": \"Mysoresandal\", \"Category\": \"soap\", \"price\": 40, \"mfg_date\": \"8/21\", \"exp_date\": \"12/23\", \"Stock\": 144}, \"1000657\": {\"Name\": \"Vasline\", \"Category\": \"cold cream\", \"price\": 65, \"mfg_date\": \"4/21\", \"exp_date\": \"8/22\", \"Stock\": 37}, \"1000658\": {\"Name\": \"Nova\", \"Category\": \"cold cream\", \"price\": 89, \"mfg_date\": \"7/21\", \"exp_date\": \"3/23\", \"Stock\": 134}, \"1000659\": {\"Name\": \"Ponds\", \"Category\": \"cold cream\", \"price\": 10, \"mfg_date\": \"12/20\", \"exp_date\": \"12/22\", \"Stock\": 66}, \"1000660\": {\"Name\": \"maza\", \"Category\": \"drink\", \"price\": 35, \"mfg_date\": \"4/21\", \"exp_date\": \"3/23\", \"Stock\": 33}, \"1000661\": {\"Name\": \"margo\", \"Category\": \"soap\", \"price\": 55, \"mfg_date\": \"6/21\", \"exp_date\": \"7/23\", \"Stock\": 40}, \"1600012\": {\"Name\": \"sprite\", \"Category\": \"drink\", \"price\": 40, \"mfg_date\": \"6/21\", \"exp_date\": \"7/22\", \"Stock\": 30}}'"
      ]
     },
     "execution_count": 64,
     "metadata": {},
     "output_type": "execute_result"
    }
   ],
   "source": [
    "t"
   ]
  },
  {
   "cell_type": "code",
   "execution_count": 65,
   "id": "e3adcbd8",
   "metadata": {},
   "outputs": [],
   "source": [
    "product_list=json.loads(t)\n",
    "li=[]"
   ]
  },
  {
   "cell_type": "code",
   "execution_count": 66,
   "id": "f0512cb3",
   "metadata": {},
   "outputs": [],
   "source": [
    "for x in product_list:\n",
    "    li.append(product_list[x]['Category'])"
   ]
  },
  {
   "cell_type": "code",
   "execution_count": 67,
   "id": "7000dc81",
   "metadata": {},
   "outputs": [],
   "source": [
    "s=set(li)\n"
   ]
  },
  {
   "cell_type": "code",
   "execution_count": 68,
   "id": "de5ae8f3",
   "metadata": {},
   "outputs": [
    {
     "name": "stdout",
     "output_type": "stream",
     "text": [
      "WELCOME!\n",
      "Menu:\n",
      "facewash\n",
      "face cream\n",
      "soap\n",
      "drink\n",
      "choclate\n",
      "face powder\n",
      "cold cream\n",
      "toothpaste\n",
      "Please select what do you want: facewash\n"
     ]
    }
   ],
   "source": [
    "print('WELCOME!')\n",
    "print('Menu:')\n",
    "for i in s:\n",
    "    print(i)\n",
    "select=input('Please select what do you want: ')"
   ]
  },
  {
   "cell_type": "code",
   "execution_count": 69,
   "id": "43ba4203",
   "metadata": {},
   "outputs": [
    {
     "name": "stdout",
     "output_type": "stream",
     "text": [
      "1000636 {'Name': 'Himalaya', 'Category': 'facewash', 'price': 90, 'mfg_date': '5/21', 'exp_date': '12/22', 'Stock': 40}\n",
      "1000637 {'Name': 'Clean&clear', 'Category': 'facewash', 'price': 75, 'mfg_date': '2/21', 'exp_date': '8/22', 'Stock': 58}\n",
      "1000638 {'Name': 'Lakme', 'Category': 'facewash', 'price': 144, 'mfg_date': '4/21', 'exp_date': '6/22', 'Stock': 44}\n",
      "1000639 {'Name': 'Garniermen', 'Category': 'facewash', 'price': 120, 'mfg_date': '12/20', 'exp_date': '2/22', 'Stock': 23}\n"
     ]
    }
   ],
   "source": [
    "for x in product_list:\n",
    "    if product_list[x]['Category']==select and product_list[x]['Stock']>0:\n",
    "        print(x,product_list[x])"
   ]
  },
  {
   "cell_type": "code",
   "execution_count": 72,
   "id": "007b018e",
   "metadata": {},
   "outputs": [
    {
     "name": "stdout",
     "output_type": "stream",
     "text": [
      "Select the id of the product you want to buy:\n",
      "1000637\n",
      "How many do you want:2\n",
      "**********BILL************\n",
      "Product Name:  Clean&clear\n",
      "Price of one: 75\n",
      "Quantity: 2\n",
      "Total=  150\n",
      "THANK YOU\n"
     ]
    }
   ],
   "source": [
    "item=input(\"Select the id of the product you want to buy:\\n\")\n",
    "quantity=int(input('How many do you want:'))\n",
    "if quantity > product_list[item]['Stock']:\n",
    "    print('We have only',str(product_list[item]['Stock']),'items')\n",
    "else:\n",
    "    print('**********BILL************')\n",
    "    print('Product Name: ',product_list[item]['Name'])\n",
    "    print('Price of one:',str(product_list[item]['price']))\n",
    "    print('Quantity:',str(quantity))\n",
    "    print('Total= ',quantity*product_list[item]['price'])\n",
    "    print('THANK YOU')\n"
   ]
  },
  {
   "cell_type": "code",
   "execution_count": 73,
   "id": "18f7182b",
   "metadata": {},
   "outputs": [],
   "source": [
    "#update\n",
    "product_list[item]['Stock']-=quantity\n",
    "f=open('Products.json','w')\n",
    "json.dump(product_list,f)\n",
    "f.close()\n"
   ]
  },
  {
   "cell_type": "code",
   "execution_count": 74,
   "id": "6f265511",
   "metadata": {},
   "outputs": [],
   "source": [
    "sale=open('sales.json','r')\n",
    "s=sale.read()\n",
    "sale.close()\n",
    "dic=json.loads(s)\n"
   ]
  },
  {
   "cell_type": "code",
   "execution_count": 75,
   "id": "54d8899e",
   "metadata": {},
   "outputs": [],
   "source": [
    "\n",
    "data = {'ID':item,'Name':product_list[item]['Name'],'Category':product_list[item]['Category'],'Quantity':quantity,'Bill':quantity*product_list[item]['price']}\n",
    "dic[len(dic)+1]=data\n",
    "d=json.dumps(dic)\n",
    "\n",
    "sale=open('sales.json','w')\n",
    "sr=sale.write(d)\n",
    "sale.close()\n"
   ]
  },
  {
   "cell_type": "code",
   "execution_count": 76,
   "id": "2fe8f654",
   "metadata": {},
   "outputs": [
    {
     "data": {
      "text/plain": [
       "'{\"1\": {\"ID\": \"1000658\", \"Name\": \"Nova\", \"Category\": \"cold cream\", \"Quantity\": 3, \"Bill\": 267}, \"2\": {\"ID\": \"1000658\", \"Name\": \"Nova\", \"Category\": \"cold cream\", \"Quantity\": 3, \"Bill\": 267}, \"3\": {\"ID\": \"1000637\", \"Name\": \"Clean&clear\", \"Category\": \"facewash\", \"Quantity\": 1, \"Bill\": 75}, \"4\": {\"ID\": \"1000656\", \"Name\": \"Mysoresandal\", \"Category\": \"soap\", \"Quantity\": 6, \"Bill\": 240}, \"5\": {\"ID\": \"1000653\", \"Name\": \"Santoor\", \"Category\": \"face powder\", \"Quantity\": 9, \"Bill\": 540}, \"6\": {\"ID\": \"1000647\", \"Name\": \"Fair&lovely\", \"Category\": \"face cream\", \"Quantity\": 3, \"Bill\": 315}, \"7\": {\"ID\": \"1000643\", \"Name\": \"Sensodyne\", \"Category\": \"toothpaste\", \"Quantity\": 4, \"Bill\": 560}, \"8\": {\"ID\": \"1000623\", \"Name\": \"5Star\", \"Category\": \"choclate\", \"Quantity\": 3, \"Bill\": 30}, \"9\": {\"ID\": \"1000653\", \"Name\": \"Santoor\", \"Category\": \"face powder\", \"Quantity\": 2, \"Bill\": 120}, \"10\": {\"ID\": \"1000658\", \"Name\": \"Nova\", \"Category\": \"cold cream\", \"Quantity\": 5, \"Bill\": 445}, \"11\": {\"ID\": \"1000627\", \"Name\": \"Fruti\", \"Category\": \"drink\", \"Quantity\": 2, \"Bill\": 30}, \"12\": {\"ID\": \"1000637\", \"Name\": \"Clean&clear\", \"Category\": \"facewash\", \"Quantity\": 2, \"Bill\": 150}}'"
      ]
     },
     "execution_count": 76,
     "metadata": {},
     "output_type": "execute_result"
    }
   ],
   "source": [
    "sale=open('sales.json','r')\n",
    "sr=sale.read()\n",
    "sale.close()\n",
    "sr"
   ]
  },
  {
   "cell_type": "code",
   "execution_count": null,
   "id": "79763ae8",
   "metadata": {},
   "outputs": [],
   "source": []
  }
 ],
 "metadata": {
  "kernelspec": {
   "display_name": "Python 3",
   "language": "python",
   "name": "python3"
  },
  "language_info": {
   "codemirror_mode": {
    "name": "ipython",
    "version": 3
   },
   "file_extension": ".py",
   "mimetype": "text/x-python",
   "name": "python",
   "nbconvert_exporter": "python",
   "pygments_lexer": "ipython3",
   "version": "3.8.8"
  }
 },
 "nbformat": 4,
 "nbformat_minor": 5
}
