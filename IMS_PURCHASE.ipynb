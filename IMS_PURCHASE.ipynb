{
 "cells": [
  {
   "cell_type": "code",
   "execution_count": 1,
   "id": "a79adc6c",
   "metadata": {},
   "outputs": [],
   "source": [
    "import json\n",
    "f=open('Products.json','r')\n",
    "t=f.read()\n",
    "f.close()"
   ]
  },
  {
   "cell_type": "code",
   "execution_count": 2,
   "id": "bb9e3f44",
   "metadata": {},
   "outputs": [],
   "source": [
    "product_list=json.loads(t)"
   ]
  },
  {
   "cell_type": "code",
   "execution_count": 3,
   "id": "9b36f7bd",
   "metadata": {},
   "outputs": [
    {
     "name": "stdout",
     "output_type": "stream",
     "text": [
      "Enter Product id: 1600012\n",
      "Enter product name: sprite\n",
      "Enter product category: drink\n",
      "Enter product price: 40\n",
      "Enter product mfgdate: 6/21\n",
      "Enter product expdate: 7/22\n",
      "Enter product quantity: 30\n"
     ]
    }
   ],
   "source": [
    "id=input('Enter Product id: ')\n",
    "if id in product_list:\n",
    "    quantity=int(input('Enter product quantity: '))\n",
    "else:\n",
    "    name=input('Enter product name: ')\n",
    "    category=input('Enter product category: ')\n",
    "    price=int(input('Enter product price: '))\n",
    "    md=input('Enter product mfgdate: ')\n",
    "    ed=input('Enter product expdate: ')\n",
    "    quantity=int(input('Enter product quantity: '))"
   ]
  },
  {
   "cell_type": "code",
   "execution_count": 4,
   "id": "4907ace1",
   "metadata": {},
   "outputs": [],
   "source": [
    "if id in product_list:\n",
    "    product_list[id]['Stock']+=quantity\n",
    "else:\n",
    "    d={\"Name\": name, \"Category\": category, \"price\": price, \"mfg_date\": md, \"exp_date\": ed, \"Stock\": quantity}\n",
    "    product_list[id]=d\n",
    "f=open('Products.json','w')\n",
    "json.dump(product_list,f)\n",
    "f.close()"
   ]
  },
  {
   "cell_type": "code",
   "execution_count": null,
   "id": "a9499bec",
   "metadata": {},
   "outputs": [],
   "source": []
  }
 ],
 "metadata": {
  "kernelspec": {
   "display_name": "Python 3",
   "language": "python",
   "name": "python3"
  },
  "language_info": {
   "codemirror_mode": {
    "name": "ipython",
    "version": 3
   },
   "file_extension": ".py",
   "mimetype": "text/x-python",
   "name": "python",
   "nbconvert_exporter": "python",
   "pygments_lexer": "ipython3",
   "version": "3.8.8"
  }
 },
 "nbformat": 4,
 "nbformat_minor": 5
}
